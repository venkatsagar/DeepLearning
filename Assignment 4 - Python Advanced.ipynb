{
 "cells": [
  {
   "cell_type": "markdown",
   "metadata": {},
   "source": [
    "# Assignment 4 Questions"
   ]
  },
  {
   "cell_type": "markdown",
   "metadata": {},
   "source": [
    "## Problem Statement"
   ]
  },
  {
   "cell_type": "markdown",
   "metadata": {},
   "source": [
    "Q.1 Given a sequence of n values x1, x2, ..., xn and a window size k>0, the k-th moving average of\n",
    "the given sequence is defined as follows:\n",
    "\n",
    "The moving average sequence has n-k+1 elements as shown below.\n",
    "The moving averages with k=4 of a ten-value sequence (n=10) is shown below\n",
    "\n",
    "    i 1 2 3 4 5 6 7 8 9 10\n",
    "    ===== == == == == == == == == == ==\n",
    "    Input 10 20 30 40 50 60 70 80 90 100\n",
    "    y1 25 = (10+20+30+40)/4\n",
    "    y2 35 = (20+30+40+50)/4\n",
    "    y3 45 = (30+40+50+60)/4\n",
    "    y4 55 = (40+50+60+70)/4\n",
    "    y5 65 = (50+60+70+80)/4\n",
    "    y6 75 = (60+70+80+90)/4\n",
    "    y7 85 = (70+80+90+100)/4\n",
    "\n",
    "Thus, the moving average sequence has n-k+1=10-4+1=7 values.\n",
    "\n",
    "Write a function to find moving average in an array over a window:\n",
    "\n",
    "Test it over [3, 5, 7, 2, 8, 10, 11, 65, 72, 81, 99, 100, 150] and window of 3."
   ]
  },
  {
   "cell_type": "code",
   "execution_count": 11,
   "metadata": {},
   "outputs": [
    {
     "name": "stdout",
     "output_type": "stream",
     "text": [
      "[  5.           4.66666667   5.66666667   6.66666667   9.66666667\n",
      "  28.66666667  49.33333333  72.66666667  84.          93.33333333\n",
      " 116.33333333]\n"
     ]
    }
   ],
   "source": [
    "import numpy as np\n",
    "def moving_average(a, n=3) :\n",
    "    ret = np.cumsum(a, dtype=float)\n",
    "    ret[n:] = ret[n:] - ret[:-n]\n",
    "    return ret[n - 1:] / n\n",
    "a = [3, 5, 7, 2, 8, 10, 11, 65, 72, 81, 99, 100, 150]\n",
    "print(moving_average(a, n=3))"
   ]
  },
  {
   "cell_type": "markdown",
   "metadata": {},
   "source": [
    "Q.2 How-to-count-distance-to-the-previous-zero\n",
    "For each value, count the difference back to the previous zero (or the start of the Series,\n",
    "whichever is closer)\n",
    "create a new column 'Y'\n",
    "Consider a DataFrame df where there is an integer column 'X'\n",
    "    \n",
    "    import pandas as pd\n",
    "    df = pd.DataFrame({'X': [7, 2, 0, 3, 4, 2, 5, 0, 3, 4]})"
   ]
  },
  {
   "cell_type": "code",
   "execution_count": 6,
   "metadata": {},
   "outputs": [
    {
     "data": {
      "text/plain": [
       "0    1.0\n",
       "1    2.0\n",
       "2    0.0\n",
       "3    1.0\n",
       "4    2.0\n",
       "5    3.0\n",
       "6    4.0\n",
       "7    0.0\n",
       "8    1.0\n",
       "9    2.0\n",
       "dtype: float64"
      ]
     },
     "execution_count": 6,
     "metadata": {},
     "output_type": "execute_result"
    }
   ],
   "source": [
    "import pandas as pd\n",
    "s = pd.Series([7,2,0,3,4,2,5,0,3,4])\n",
    "x = (s != 0).cumsum()\n",
    "y = x != x.shift()\n",
    "y.groupby((y != y.shift()).cumsum()).cumsum()"
   ]
  },
  {
   "cell_type": "markdown",
   "metadata": {},
   "source": [
    "Q.3 Create a DatetimeIndex that contains each business day of 2015 and use it to index a Series of\n",
    "random numbers."
   ]
  },
  {
   "cell_type": "code",
   "execution_count": 10,
   "metadata": {},
   "outputs": [
    {
     "data": {
      "text/plain": [
       "2015-01-01    NaN\n",
       "2015-01-02    NaN\n",
       "2015-01-05    NaN\n",
       "2015-01-06    NaN\n",
       "2015-01-07    NaN\n",
       "2015-01-08    1.0\n",
       "2015-01-09    NaN\n",
       "2015-01-12    NaN\n",
       "2015-01-13    NaN\n",
       "2015-01-14    NaN\n",
       "2015-01-15    2.0\n",
       "2015-01-16    3.0\n",
       "2015-01-19    NaN\n",
       "2015-01-20    NaN\n",
       "2015-01-21    NaN\n",
       "2015-01-22    NaN\n",
       "2015-01-23    3.0\n",
       "2015-01-26    NaN\n",
       "2015-01-27    NaN\n",
       "2015-01-28    NaN\n",
       "2015-01-29    NaN\n",
       "2015-01-30    NaN\n",
       "2015-02-02    NaN\n",
       "2015-02-03    NaN\n",
       "2015-02-04    NaN\n",
       "2015-02-05    NaN\n",
       "2015-02-06    NaN\n",
       "2015-02-09    NaN\n",
       "2015-02-10    NaN\n",
       "2015-02-11    NaN\n",
       "             ... \n",
       "2015-11-20    NaN\n",
       "2015-11-23    NaN\n",
       "2015-11-24    NaN\n",
       "2015-11-25    NaN\n",
       "2015-11-26    NaN\n",
       "2015-11-27    NaN\n",
       "2015-11-30    NaN\n",
       "2015-12-01    NaN\n",
       "2015-12-02    NaN\n",
       "2015-12-03    NaN\n",
       "2015-12-04    NaN\n",
       "2015-12-07    NaN\n",
       "2015-12-08    NaN\n",
       "2015-12-09    NaN\n",
       "2015-12-10    NaN\n",
       "2015-12-11    NaN\n",
       "2015-12-14    NaN\n",
       "2015-12-15    NaN\n",
       "2015-12-16    NaN\n",
       "2015-12-17    NaN\n",
       "2015-12-18    NaN\n",
       "2015-12-21    NaN\n",
       "2015-12-22    NaN\n",
       "2015-12-23    NaN\n",
       "2015-12-24    NaN\n",
       "2015-12-25    NaN\n",
       "2015-12-28    NaN\n",
       "2015-12-29    NaN\n",
       "2015-12-30    NaN\n",
       "2015-12-31    NaN\n",
       "Freq: B, Length: 261, dtype: float64"
      ]
     },
     "execution_count": 10,
     "metadata": {},
     "output_type": "execute_result"
    }
   ],
   "source": [
    "s = pd.Series({\"2015-01-08\":1,      \n",
    "               \"2015-01-15\":2,\n",
    "               \"2015-01-16\":3,\n",
    "               \"2015-01-23\":3})\n",
    "s.index = pd.DatetimeIndex(s.index)\n",
    "bd = pd.bdate_range('2015-01-01', '2015-12-31')\n",
    "s = s.reindex(bd)\n",
    "s"
   ]
  },
  {
   "cell_type": "markdown",
   "metadata": {},
   "source": [
    "Q.4 "
   ]
  }
 ],
 "metadata": {
  "kernelspec": {
   "display_name": "Python 3",
   "language": "python",
   "name": "python3"
  },
  "language_info": {
   "codemirror_mode": {
    "name": "ipython",
    "version": 3
   },
   "file_extension": ".py",
   "mimetype": "text/x-python",
   "name": "python",
   "nbconvert_exporter": "python",
   "pygments_lexer": "ipython3",
   "version": "3.7.3"
  }
 },
 "nbformat": 4,
 "nbformat_minor": 2
}
